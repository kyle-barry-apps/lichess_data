{
 "cells": [
  {
   "cell_type": "markdown",
   "metadata": {},
   "source": [
    "# Using the lichess api to get data insights on an individual user's games\n",
    "\n",
    "This is an example of how to use Lichess API data to find trends within your own games (or someone else's). There's a lot more that can be done, but this may be a useful primer. I'm using a Python wrapper called **berserk**, which is recommended on the Lichess API page here: https://lichess.org/api. \n",
    "\n",
    "You can get a token here https://lichess.org/account/oauth/token\n",
    "\n",
    "Wrapper documentation: https://github.com/rhgrant10/berserk"
   ]
  },
  {
   "cell_type": "code",
   "execution_count": 1,
   "metadata": {},
   "outputs": [],
   "source": [
    "# Importing lichess python wrapper, some other modules, and establishing token and player name\n",
    "\n",
    "import pandas as pd\n",
    "import numpy as np\n",
    "import time\n",
    "import berserk\n",
    "from config import TOKEN\n",
    "\n",
    "# Store in config\n",
    "TOKEN = TOKEN\n",
    "PLAYER = 'classy_kylieee'"
   ]
  },
  {
   "cell_type": "code",
   "execution_count": 2,
   "metadata": {},
   "outputs": [],
   "source": [
    "# For data visualization later\n",
    "\n",
    "import matplotlib.pyplot as plt\n",
    "import seaborn as sns\n",
    "sns.set(style='darkgrid')\n",
    "sns.set_palette(\"hls\")\n",
    "sns.set()\n",
    "%matplotlib inline"
   ]
  },
  {
   "cell_type": "code",
   "execution_count": 3,
   "metadata": {},
   "outputs": [],
   "source": [
    "# Starting session with token\n",
    "\n",
    "session = berserk.TokenSession(TOKEN)\n",
    "client = berserk.Client(session=session)"
   ]
  },
  {
   "cell_type": "code",
   "execution_count": 4,
   "metadata": {},
   "outputs": [
    {
     "data": {
      "text/plain": [
       "<generator object Games.export_by_player at 0x7fb75d75aa20>"
      ]
     },
     "execution_count": 4,
     "metadata": {},
     "output_type": "execute_result"
    }
   ],
   "source": [
    "# Getting list of games based on player\n",
    "\n",
    "client.games.export_by_player(PLAYER)\n",
    "games = list(_)"
   ]
  },
  {
   "cell_type": "code",
   "execution_count": 5,
   "metadata": {},
   "outputs": [],
   "source": [
    "# Creating a dataframe of the games\n",
    "df = pd.DataFrame(games)"
   ]
  },
  {
   "cell_type": "code",
   "execution_count": 6,
   "metadata": {},
   "outputs": [],
   "source": [
    "# Getting a list of game ids to get more data on each with export game function\n",
    "list_of_games = list(df['id'])"
   ]
  },
  {
   "cell_type": "markdown",
   "metadata": {},
   "source": [
    "**This next step is not necessary unless you want to work with opening and analysis data. Everything else you need is included with the export_by_player function**\n",
    "\n",
    "Here we will loop through the game ids, calling the api to get data on each and store in a list to be converted \n",
    "into a dataframe after cleaning it up.\n",
    "\n",
    "Sleeping for one second or we will hit a rate limit. If you try it in a list comprehension without sleeping, you\n",
    "will most likely get an error. This will take a while depending on how many games you're getting."
   ]
  },
  {
   "cell_type": "code",
   "execution_count": 7,
   "metadata": {},
   "outputs": [],
   "source": [
    "for_games_df = []\n",
    "for i in list_of_games:\n",
    "    temp = client.games.export(i)\n",
    "    for_games_df.append(temp)\n",
    "    time.sleep(1)"
   ]
  },
  {
   "cell_type": "code",
   "execution_count": 8,
   "metadata": {},
   "outputs": [],
   "source": [
    "# Cleaning up data before creating a dataframe, establishing new columns for ease of use\n",
    "\n",
    "for i in for_games_df:\n",
    "    \n",
    "    # Dealing with the games against stockfish which contain different data\n",
    "    \n",
    "    if 'aiLevel'in i['players']['white'].keys():\n",
    "        i['white_player'] = 'Stockfish'\n",
    "        i['white_player_rating'] = 'Stockfish'\n",
    "    else:\n",
    "        i['white_player'] = i['players']['white']['user']['name']\n",
    "        i['white_player_rating'] = i['players']['white']['rating']\n",
    "        \n",
    "    if 'aiLevel'in i['players']['black'].keys():\n",
    "        i['black_player'] = 'Stockfish'\n",
    "        i['black_player_rating'] = 'Stockfish'\n",
    "    else:\n",
    "        i['black_player'] = i['players']['black']['user']['name']\n",
    "        i['black_player_rating'] = i['players']['black']['rating']\n",
    "        \n",
    "        \n",
    "    # Sometimes opening data is in a dictionary with a 'name' and sometimes it's already just a string    \n",
    "    \n",
    "    if 'opening' in i.keys():\n",
    "        if type(i['opening']) is dict:\n",
    "            i['opening'] = i['opening']['name']\n",
    "        else:\n",
    "            i['opening'] = i['opening']\n",
    "            \n",
    "    # If there is no opening data, it's because it is a game played from particular position\n",
    "    \n",
    "    else:\n",
    "        i['opening'] = 'From Position'\n",
    "        "
   ]
  },
  {
   "cell_type": "code",
   "execution_count": 9,
   "metadata": {},
   "outputs": [],
   "source": [
    "# Creating a new dataframe with the new column data and replacing NaN values with 0 for ease of use\n",
    "\n",
    "games_df = pd.DataFrame(for_games_df)\n",
    "games_df.fillna(0, inplace=True)"
   ]
  },
  {
   "cell_type": "code",
   "execution_count": 10,
   "metadata": {},
   "outputs": [
    {
     "data": {
      "text/plain": [
       "Index(['id', 'rated', 'variant', 'speed', 'perf', 'createdAt', 'lastMoveAt',\n",
       "       'status', 'players', 'winner', 'moves', 'clock'],\n",
       "      dtype='object')"
      ]
     },
     "execution_count": 10,
     "metadata": {},
     "output_type": "execute_result"
    }
   ],
   "source": [
    "# Notice below that the games_df has two additional columns, analysis and opening. We'll be working with that\n",
    "# dataframe.\n",
    "\n",
    "df.columns"
   ]
  },
  {
   "cell_type": "code",
   "execution_count": 11,
   "metadata": {},
   "outputs": [
    {
     "data": {
      "text/plain": [
       "Index(['id', 'rated', 'variant', 'speed', 'perf', 'createdAt', 'lastMoveAt',\n",
       "       'status', 'players', 'winner', 'opening', 'moves', 'clock',\n",
       "       'white_player', 'white_player_rating', 'black_player',\n",
       "       'black_player_rating', 'analysis'],\n",
       "      dtype='object')"
      ]
     },
     "execution_count": 11,
     "metadata": {},
     "output_type": "execute_result"
    }
   ],
   "source": [
    "games_df.columns"
   ]
  },
  {
   "cell_type": "code",
   "execution_count": 12,
   "metadata": {},
   "outputs": [],
   "source": [
    "# Creating conditions to get a clear result for the player's data, if the 'winner' was NaN (which we converted to 0),\n",
    "# that means the result was a draw\n",
    "\n",
    "conditions = [\n",
    "    (games_df['winner'] == 0),\n",
    "    (games_df['winner'] == 'white') & (games_df['white_player'] == PLAYER),\n",
    "    (games_df['winner'] == 'black') & (games_df['black_player'] == PLAYER),\n",
    "    (games_df['winner'] == 'white') & (games_df['white_player'] != PLAYER),\n",
    "    (games_df['winner'] == 'black') & (games_df['black_player'] != PLAYER)\n",
    "]\n",
    "\n",
    "values = ['Draw', 'Win', 'Win', 'Loss', 'Loss']\n",
    "\n",
    "games_df['result'] = np.select(conditions, values)"
   ]
  },
  {
   "cell_type": "code",
   "execution_count": 13,
   "metadata": {},
   "outputs": [
    {
     "data": {
      "text/plain": [
       "Win     0.478261\n",
       "Loss    0.468227\n",
       "Draw    0.053512\n",
       "Name: result, dtype: float64"
      ]
     },
     "execution_count": 13,
     "metadata": {},
     "output_type": "execute_result"
    }
   ],
   "source": [
    "# Get value_counts as percentage for results\n",
    "# This is a total win/loss/draw percentage\n",
    "\n",
    "games_df['result'].value_counts(normalize=True)"
   ]
  },
  {
   "cell_type": "code",
   "execution_count": 14,
   "metadata": {},
   "outputs": [],
   "source": [
    "# Parse clock data for initial time and increment\n",
    "\n",
    "games_df['initial'] = games_df['clock'].apply(lambda x: x['initial'])\n",
    "games_df['increment'] = games_df['clock'].apply(lambda x: x['increment'])"
   ]
  },
  {
   "cell_type": "code",
   "execution_count": 15,
   "metadata": {},
   "outputs": [],
   "source": [
    "# Establish the white and black player names in separate columns for ease of use\n",
    "\n",
    "games_df['white_player'] = games_df.players.apply(lambda x: x['white']['user']['name'])\n",
    "games_df['black_player'] = games_df.players.apply(lambda x: x['black']['user']['name'])"
   ]
  },
  {
   "cell_type": "code",
   "execution_count": 16,
   "metadata": {},
   "outputs": [],
   "source": [
    "# If you want to get dataframes with data only from specific time controls, you can do it like so\n",
    "# Initial is the number of minutes (in seconds), e.g. 300 is five minutes\n",
    "\n",
    "five_plus_three = games_df[(games_df['initial'] == 300) & (games_df['increment'] == 3)]\n",
    "\n",
    "# Creating some dataframes for each major lichess time control in case we want to break it down that way\n",
    "# one_plus_zero = games_df[(games_df['initial'] == 60) & (games_df['increment'] == 0)]\n",
    "# two_plus_one = games_df[(games_df['initial'] == 120) & (games_df['increment'] == 1)]\n",
    "# three_plus_zero = games_df[(games_df['initial'] == 180) & (games_df['increment'] == 0)]\n",
    "# three_plus_two = games_df[(games_df['initial'] == 180) & (games_df['increment'] == 2)]\n",
    "# five_plus_zero = games_df[(games_df['initial'] == 300) & (games_df['increment'] == 3)]\n",
    "# five_plus_three = games_df[(games_df['initial'] == 300) & (games_df['increment'] == 0)]\n",
    "# ten_plus_zero = games_df[(games_df['initial'] == 600) & (games_df['increment'] == 0)]\n",
    "# ten_plus_five = games_df[(games_df['initial'] == 600) & (games_df['increment'] == 5)]\n",
    "# fifteen_plus_ten = games_df[(games_df['initial'] == 900) & (games_df['increment'] == 10)]\n",
    "# thirty_plus_zero = games_df[(games_df['initial'] == 1800) & (games_df['increment'] == 0)]\n",
    "# thirty_plus_twenty = games_df[(games_df['initial'] == 1800) & (games_df['increment'] == 20)]"
   ]
  },
  {
   "cell_type": "markdown",
   "metadata": {},
   "source": [
    "### Below is how we can work a bit with opening data.\n",
    "\n",
    "You will need to have used the export function as we did in Cell 7 to have this column available.\n",
    "\n",
    "Here we get all available openings and create a dataframe for each with the name being the opening for future graphing purposes\n",
    "\n",
    "Then we groupby the opening that we established earlier, and get a value count on the result. We unstack\n",
    "and fill the empty values with zero and restack to make sure we keep records with 0 in the data, then\n",
    "we just turn the groupby into a dataframe and organize the columns.\n",
    "\n",
    "Setting normalize to true will give you these in percentages."
   ]
  },
  {
   "cell_type": "code",
   "execution_count": 17,
   "metadata": {},
   "outputs": [],
   "source": [
    "opening_breakdown = games_df.groupby('opening')['result'].value_counts(normalize=False).unstack(fill_value=0).stack().to_frame().reset_index().rename(columns={0:'COUNT'})\n",
    "\n",
    "# Create a separate dataframe for each opening value count and store in a list\n",
    "\n",
    "list_of_opening_dfs = []\n",
    "\n",
    "opening_list = opening_breakdown['opening'].unique()\n",
    "\n",
    "for opening in opening_list:\n",
    "    temp_df = opening_breakdown[opening_breakdown['opening'] == opening]\n",
    "    temp_df.name = opening\n",
    "    list_of_opening_dfs.append(temp_df)"
   ]
  },
  {
   "cell_type": "code",
   "execution_count": 18,
   "metadata": {},
   "outputs": [
    {
     "data": {
      "text/plain": [
       "[Text(0, 0.5, 'Number'), Text(0.5, 0, 'Result')]"
      ]
     },
     "execution_count": 18,
     "metadata": {},
     "output_type": "execute_result"
    },
    {
     "data": {
      "text/plain": [
       "Text(0.5, 1.0, 'Caro-Kann Defense')"
      ]
     },
     "execution_count": 18,
     "metadata": {},
     "output_type": "execute_result"
    },
    {
     "data": {
      "text/plain": [
       "[Text(0, 0.5, 'Number'), Text(0.5, 0, 'Result')]"
      ]
     },
     "execution_count": 18,
     "metadata": {},
     "output_type": "execute_result"
    },
    {
     "data": {
      "text/plain": [
       "Text(0.5, 1.0, 'Caro-Kann Defense: Advance Variation')"
      ]
     },
     "execution_count": 18,
     "metadata": {},
     "output_type": "execute_result"
    },
    {
     "data": {
      "text/plain": [
       "[Text(0, 0.5, 'Number'), Text(0.5, 0, 'Result')]"
      ]
     },
     "execution_count": 18,
     "metadata": {},
     "output_type": "execute_result"
    },
    {
     "data": {
      "text/plain": [
       "Text(0.5, 1.0, 'Caro-Kann Defense: Exchange Variation')"
      ]
     },
     "execution_count": 18,
     "metadata": {},
     "output_type": "execute_result"
    },
    {
     "data": {
      "text/plain": [
       "[Text(0, 0.5, 'Number'), Text(0.5, 0, 'Result')]"
      ]
     },
     "execution_count": 18,
     "metadata": {},
     "output_type": "execute_result"
    },
    {
     "data": {
      "text/plain": [
       "Text(0.5, 1.0, 'Caro-Kann Defense: Main Line')"
      ]
     },
     "execution_count": 18,
     "metadata": {},
     "output_type": "execute_result"
    },
    {
     "data": {
      "text/plain": [
       "[Text(0, 0.5, 'Number'), Text(0.5, 0, 'Result')]"
      ]
     },
     "execution_count": 18,
     "metadata": {},
     "output_type": "execute_result"
    },
    {
     "data": {
      "text/plain": [
       "Text(0.5, 1.0, 'Caro-Kann Defense: Tartakower Variation')"
      ]
     },
     "execution_count": 18,
     "metadata": {},
     "output_type": "execute_result"
    },
    {
     "data": {
      "text/plain": [
       "[Text(0, 0.5, 'Number'), Text(0.5, 0, 'Result')]"
      ]
     },
     "execution_count": 18,
     "metadata": {},
     "output_type": "execute_result"
    },
    {
     "data": {
      "text/plain": [
       "Text(0.5, 1.0, 'Giuoco Piano')"
      ]
     },
     "execution_count": 18,
     "metadata": {},
     "output_type": "execute_result"
    },
    {
     "data": {
      "text/plain": [
       "[Text(0, 0.5, 'Number'), Text(0.5, 0, 'Result')]"
      ]
     },
     "execution_count": 18,
     "metadata": {},
     "output_type": "execute_result"
    },
    {
     "data": {
      "text/plain": [
       "Text(0.5, 1.0, 'Italian Game: Anti-Fried Liver Defense')"
      ]
     },
     "execution_count": 18,
     "metadata": {},
     "output_type": "execute_result"
    },
    {
     "data": {
      "text/plain": [
       "[Text(0, 0.5, 'Number'), Text(0.5, 0, 'Result')]"
      ]
     },
     "execution_count": 18,
     "metadata": {},
     "output_type": "execute_result"
    },
    {
     "data": {
      "text/plain": [
       "Text(0.5, 1.0, 'Italian Game: Classical Variation, Giuoco Pianissimo')"
      ]
     },
     "execution_count": 18,
     "metadata": {},
     "output_type": "execute_result"
    },
    {
     "data": {
      "text/plain": [
       "[Text(0, 0.5, 'Number'), Text(0.5, 0, 'Result')]"
      ]
     },
     "execution_count": 18,
     "metadata": {},
     "output_type": "execute_result"
    },
    {
     "data": {
      "text/plain": [
       "Text(0.5, 1.0, 'Pirc Defense')"
      ]
     },
     "execution_count": 18,
     "metadata": {},
     "output_type": "execute_result"
    },
    {
     "data": {
      "text/plain": [
       "[Text(0, 0.5, 'Number'), Text(0.5, 0, 'Result')]"
      ]
     },
     "execution_count": 18,
     "metadata": {},
     "output_type": "execute_result"
    },
    {
     "data": {
      "text/plain": [
       "Text(0.5, 1.0, \"Queen's Pawn Game: Steinitz Countergambit\")"
      ]
     },
     "execution_count": 18,
     "metadata": {},
     "output_type": "execute_result"
    },
    {
     "data": {
      "text/plain": [
       "[Text(0, 0.5, 'Number'), Text(0.5, 0, 'Result')]"
      ]
     },
     "execution_count": 18,
     "metadata": {},
     "output_type": "execute_result"
    },
    {
     "data": {
      "text/plain": [
       "Text(0.5, 1.0, 'Sicilian Defense: Alapin Variation')"
      ]
     },
     "execution_count": 18,
     "metadata": {},
     "output_type": "execute_result"
    },
    {
     "data": {
      "text/plain": [
       "[Text(0, 0.5, 'Number'), Text(0.5, 0, 'Result')]"
      ]
     },
     "execution_count": 18,
     "metadata": {},
     "output_type": "execute_result"
    },
    {
     "data": {
      "text/plain": [
       "Text(0.5, 1.0, 'Slav Defense')"
      ]
     },
     "execution_count": 18,
     "metadata": {},
     "output_type": "execute_result"
    },
    {
     "data": {
      "image/png": "[encoded data removed]",
      "text/plain": [
       "<Figure size 432x288 with 1 Axes>"
      ]
     },
     "metadata": {},
     "output_type": "display_data"
    }
   ],
   "source": [
    "# Producing graphs per opening if there is a decent amount of data to work with (aka >4 games)\n",
    "\n",
    "for opening in list_of_opening_dfs:\n",
    "    if opening.COUNT.sum()>4:\n",
    "        \n",
    "        # Look at matplotlib and seaborn documentation to customize\n",
    "        sns.set_style(\"white\")\n",
    "        ax = sns.barplot(palette=sns.color_palette('Paired'), data=opening, x=opening['result'], y='COUNT')\n",
    "        ax.set(xlabel='Result', ylabel='Number')\n",
    "        ax.set_title(opening.name, fontdict = { 'fontsize': 10, 'fontweight':'bold'})\n",
    "        ax = ax.figure\n",
    "        # Here you can save the graphs to a folder on your local machine if you so choose\n",
    "        # ax.savefig('/some path/'+opening.name+'.png')\n",
    "    else:\n",
    "        continue"
   ]
  },
  {
   "cell_type": "markdown",
   "metadata": {},
   "source": [
    "## We can break things down by time control, as well.\n",
    "\n",
    "As stated above, you can instead use a more specific breakdown by creating dataframes for each initial/increment pairing"
   ]
  },
  {
   "cell_type": "code",
   "execution_count": 19,
   "metadata": {},
   "outputs": [],
   "source": [
    "tc_df_list = []\n",
    "\n",
    "tc = games_df.groupby('perf').result.value_counts().unstack(fill_value=0).stack().to_frame().rename(columns={'result':'COUNT'}).reset_index()\n",
    "blitz = tc[tc['perf']=='blitz'].rename(columns={0:'Count'})\n",
    "blitz.name = 'Blitz'\n",
    "bullet = tc[tc['perf']=='bullet'].rename(columns={0:'Count'})\n",
    "bullet.name = 'Bullet'\n",
    "classical = tc[tc['perf']=='classical'].rename(columns={0:'Count'})\n",
    "classical.name = 'Classical'\n",
    "rapid = tc[tc['perf']=='rapid'].rename(columns={0:'Count'})\n",
    "rapid.name = 'Rapid'\n",
    "\n",
    "tc_df_list.extend([blitz, bullet, classical, rapid])\n"
   ]
  },
  {
   "cell_type": "code",
   "execution_count": 20,
   "metadata": {},
   "outputs": [
    {
     "data": {
      "text/plain": [
       "[Text(0, 0.5, 'Number'), Text(0.5, 0, 'Result')]"
      ]
     },
     "execution_count": 20,
     "metadata": {},
     "output_type": "execute_result"
    },
    {
     "data": {
      "text/plain": [
       "Text(0.5, 1.0, 'Blitz')"
      ]
     },
     "execution_count": 20,
     "metadata": {},
     "output_type": "execute_result"
    },
    {
     "data": {
      "image/png": "[encoded data removed]",
      "text/plain": [
       "<Figure size 432x288 with 1 Axes>"
      ]
     },
     "metadata": {},
     "output_type": "display_data"
    },
    {
     "data": {
      "text/plain": [
       "[Text(0, 0.5, 'Number'), Text(0.5, 0, 'Result')]"
      ]
     },
     "execution_count": 20,
     "metadata": {},
     "output_type": "execute_result"
    },
    {
     "data": {
      "text/plain": [
       "Text(0.5, 1.0, 'Bullet')"
      ]
     },
     "execution_count": 20,
     "metadata": {},
     "output_type": "execute_result"
    },
    {
     "data": {
      "image/png": "[encoded data removed]",
      "text/plain": [
       "<Figure size 432x288 with 1 Axes>"
      ]
     },
     "metadata": {},
     "output_type": "display_data"
    },
    {
     "data": {
      "text/plain": [
       "[Text(0, 0.5, 'Number'), Text(0.5, 0, 'Result')]"
      ]
     },
     "execution_count": 20,
     "metadata": {},
     "output_type": "execute_result"
    },
    {
     "data": {
      "text/plain": [
       "Text(0.5, 1.0, 'Classical')"
      ]
     },
     "execution_count": 20,
     "metadata": {},
     "output_type": "execute_result"
    },
    {
     "data": {
      "image/png": "[encoded data removed]",
      "text/plain": [
       "<Figure size 432x288 with 1 Axes>"
      ]
     },
     "metadata": {},
     "output_type": "display_data"
    },
    {
     "data": {
      "text/plain": [
       "[Text(0, 0.5, 'Number'), Text(0.5, 0, 'Result')]"
      ]
     },
     "execution_count": 20,
     "metadata": {},
     "output_type": "execute_result"
    },
    {
     "data": {
      "text/plain": [
       "Text(0.5, 1.0, 'Rapid')"
      ]
     },
     "execution_count": 20,
     "metadata": {},
     "output_type": "execute_result"
    },
    {
     "data": {
      "image/png": "[encoded data removed]",
      "text/plain": [
       "<Figure size 432x288 with 1 Axes>"
      ]
     },
     "metadata": {},
     "output_type": "display_data"
    }
   ],
   "source": [
    "# Make some time control graphs\n",
    "\n",
    "for df in tc_df_list:\n",
    "    sns.set_style(\"white\")\n",
    "    ax = sns.barplot(palette=sns.color_palette('Paired'), data=df, x=df['result'], y='Count')\n",
    "    ax.set(xlabel='Result', ylabel='Number')\n",
    "    ax.set_title(df.name, fontdict = { 'fontsize': 14, 'fontweight':'bold'})\n",
    "    ax = ax.figure\n",
    "    plt.show()"
   ]
  },
  {
   "cell_type": "markdown",
   "metadata": {},
   "source": [
    "### Below we break things down by the hour of day and the day of week\n",
    "\n",
    "In can be fun to see at white time of day you play and win the most, as well as what day of the week. Maybe\n",
    "you can establish your absolute best playing time.\n"
   ]
  },
  {
   "cell_type": "code",
   "execution_count": 21,
   "metadata": {},
   "outputs": [],
   "source": [
    "# Get time data\n",
    "games_df['datetime'] = pd.to_datetime(games_df.createdAt)\n",
    "\n",
    "# Adjust for timezone. This is UTC minus four hours for EST\n",
    "games_df['datetime'] = games_df['datetime'].apply(lambda x: x-np.timedelta64(4, 'h'))\n",
    "\n",
    "games_df['hour'] = games_df['datetime'].apply(lambda x: x.hour)\n",
    "games_df['day_of_week'] = games_df['datetime'].apply(lambda x: x.weekday())\n",
    "games_df['day_of_week'] = games_df['day_of_week'].map({0: 'Monday', 1: 'Tuesday', 2: 'Wednesday', 3: 'Thursday', 4: 'Friday', 5: 'Saturday', 6: 'Sunday'})\n",
    "games_df['month'] = games_df['datetime'].apply(lambda x: x.month)"
   ]
  },
  {
   "cell_type": "code",
   "execution_count": 22,
   "metadata": {},
   "outputs": [],
   "source": [
    "## Doing stuff with hour data\n",
    "hour_vc = games_df['hour'].value_counts().sort_index().to_frame().rename(columns={'hour':'COUNT'})"
   ]
  },
  {
   "cell_type": "code",
   "execution_count": 23,
   "metadata": {},
   "outputs": [
    {
     "data": {
      "text/plain": [
       "<Figure size 1152x432 with 0 Axes>"
      ]
     },
     "execution_count": 23,
     "metadata": {},
     "output_type": "execute_result"
    },
    {
     "data": {
      "text/plain": [
       "[Text(0, 0.5, 'Number of Games'), Text(0.5, 0, 'Hour of Day')]"
      ]
     },
     "execution_count": 23,
     "metadata": {},
     "output_type": "execute_result"
    },
    {
     "data": {
      "text/plain": [
       "Text(0.5, 1.0, 'Hourly Breakdown')"
      ]
     },
     "execution_count": 23,
     "metadata": {},
     "output_type": "execute_result"
    },
    {
     "data": {
      "image/png": "[encoded data removed]",
      "text/plain": [
       "<Figure size 1152x432 with 1 Axes>"
      ]
     },
     "metadata": {},
     "output_type": "display_data"
    }
   ],
   "source": [
    "# Games played by hour of day\n",
    "sns.set(style='darkgrid')\n",
    "plt.figure(figsize=(16,6))\n",
    "ax2 = sns.barplot(data=hour_vc, x=hour_vc.index, y='COUNT')\n",
    "ax2.set(xlabel='Hour of Day', ylabel='Number of Games')\n",
    "ax2.set_title('Hourly Breakdown', fontdict = { 'fontsize': 14, 'fontweight':'bold'})"
   ]
  },
  {
   "cell_type": "code",
   "execution_count": 24,
   "metadata": {},
   "outputs": [],
   "source": [
    "# Get win percentage per hour\n",
    "win_hour_vc = games_df[games_df['result'] == 'Win'].hour.value_counts().sort_index().to_frame().rename(columns={'hour':'COUNT'})\n",
    "win_hour_perc = win_hour_vc/hour_vc"
   ]
  },
  {
   "cell_type": "code",
   "execution_count": 25,
   "metadata": {},
   "outputs": [
    {
     "data": {
      "text/plain": [
       "<Figure size 1152x432 with 0 Axes>"
      ]
     },
     "execution_count": 25,
     "metadata": {},
     "output_type": "execute_result"
    },
    {
     "data": {
      "text/plain": [
       "[Text(0, 0.5, 'Win %'), Text(0.5, 0, 'Hour of Day')]"
      ]
     },
     "execution_count": 25,
     "metadata": {},
     "output_type": "execute_result"
    },
    {
     "data": {
      "text/plain": [
       "Text(0.5, 1.0, 'Win Percentage by Hour of Day')"
      ]
     },
     "execution_count": 25,
     "metadata": {},
     "output_type": "execute_result"
    },
    {
     "data": {
      "image/png": "[encoded data removed]",
      "text/plain": [
       "<Figure size 1152x432 with 1 Axes>"
      ]
     },
     "metadata": {},
     "output_type": "display_data"
    }
   ],
   "source": [
    "# Win percentage by hour of day plot, aka what time do you play your best?\n",
    "sns.set(style='darkgrid')\n",
    "plt.figure(figsize=(16,6))\n",
    "ax2 = sns.barplot(data=win_hour_perc, x=hour_vc.index, y='COUNT')\n",
    "ax2.set(xlabel='Hour of Day', ylabel='Win %')\n",
    "ax2.set_title('Win Percentage by Hour of Day', fontdict = { 'fontsize': 14, 'fontweight':'bold'})"
   ]
  },
  {
   "cell_type": "code",
   "execution_count": 26,
   "metadata": {},
   "outputs": [],
   "source": [
    "# Do stuff with day of week data\n",
    "day_of_week_vc = games_df['day_of_week'].value_counts().to_frame().rename(columns={'day_of_week':'COUNT'})"
   ]
  },
  {
   "cell_type": "code",
   "execution_count": 27,
   "metadata": {},
   "outputs": [],
   "source": [
    "# Make the days something human-readable in the right order\n",
    "days = ['Monday', 'Tuesday', 'Wednesday', 'Thursday', 'Friday', 'Saturday', 'Sunday']\n",
    "day_of_week_vc = day_of_week_vc.reindex(days)"
   ]
  },
  {
   "cell_type": "code",
   "execution_count": 28,
   "metadata": {},
   "outputs": [
    {
     "data": {
      "text/plain": [
       "<Figure size 1152x432 with 0 Axes>"
      ]
     },
     "execution_count": 28,
     "metadata": {},
     "output_type": "execute_result"
    },
    {
     "data": {
      "text/plain": [
       "Text(0, 0.5, 'Number of Games')"
      ]
     },
     "execution_count": 28,
     "metadata": {},
     "output_type": "execute_result"
    },
    {
     "data": {
      "text/plain": [
       "Text(0.5, 1.0, 'Games per Day of Week')"
      ]
     },
     "execution_count": 28,
     "metadata": {},
     "output_type": "execute_result"
    },
    {
     "data": {
      "text/plain": [
       "[Text(0, 0, 'Monday'),\n",
       " Text(0, 0, 'Tuesday'),\n",
       " Text(0, 0, 'Wednesday'),\n",
       " Text(0, 0, 'Thursday'),\n",
       " Text(0, 0, 'Friday'),\n",
       " Text(0, 0, 'Saturday'),\n",
       " Text(0, 0, 'Sunday')]"
      ]
     },
     "execution_count": 28,
     "metadata": {},
     "output_type": "execute_result"
    },
    {
     "data": {
      "image/png": "[encoded data removed]",
      "text/plain": [
       "<Figure size 1152x432 with 1 Axes>"
      ]
     },
     "metadata": {},
     "output_type": "display_data"
    }
   ],
   "source": [
    "# Day of week plot\n",
    "plt.figure(figsize=(16,6))\n",
    "day_of_week_vc.index = ['Monday', 'Tuesday', 'Wednesday', 'Thursday', 'Friday', 'Saturday', 'Sunday']\n",
    "ax = sns.barplot(data=day_of_week_vc, x=day_of_week_vc.index, y='COUNT', palette='hls')\n",
    "ax.set_ylabel('Number of Games')\n",
    "ax.set_title('Games per Day of Week', fontdict = { 'fontsize': 14, 'fontweight':'bold'})\n",
    "ax.set_xticklabels(day_of_week_vc.index, rotation=45)"
   ]
  },
  {
   "cell_type": "code",
   "execution_count": 29,
   "metadata": {},
   "outputs": [],
   "source": [
    "# Get win percentage per day of week\n",
    "\n",
    "win_dow_vc = games_df[games_df['result'] == 'Win'].day_of_week.value_counts().to_frame().rename(columns={'day_of_week':'COUNT'})\n",
    "win_dow_vc = win_dow_vc.reindex(days)\n",
    "win_dow_perc = win_dow_vc/day_of_week_vc"
   ]
  },
  {
   "cell_type": "code",
   "execution_count": 30,
   "metadata": {},
   "outputs": [
    {
     "data": {
      "text/plain": [
       "<Figure size 1152x432 with 0 Axes>"
      ]
     },
     "execution_count": 30,
     "metadata": {},
     "output_type": "execute_result"
    },
    {
     "data": {
      "text/plain": [
       "[Text(0, 0.5, 'Win %'), Text(0.5, 0, 'Day of Week')]"
      ]
     },
     "execution_count": 30,
     "metadata": {},
     "output_type": "execute_result"
    },
    {
     "data": {
      "text/plain": [
       "Text(0.5, 1.0, 'Win Percentage by Day of Week')"
      ]
     },
     "execution_count": 30,
     "metadata": {},
     "output_type": "execute_result"
    },
    {
     "data": {
      "text/plain": [
       "[Text(0, 0, 'Monday'),\n",
       " Text(0, 0, 'Tuesday'),\n",
       " Text(0, 0, 'Wednesday'),\n",
       " Text(0, 0, 'Thursday'),\n",
       " Text(0, 0, 'Friday'),\n",
       " Text(0, 0, 'Saturday'),\n",
       " Text(0, 0, 'Sunday')]"
      ]
     },
     "execution_count": 30,
     "metadata": {},
     "output_type": "execute_result"
    },
    {
     "data": {
      "image/png": "[encoded data removed]",
      "text/plain": [
       "<Figure size 1152x432 with 1 Axes>"
      ]
     },
     "metadata": {},
     "output_type": "display_data"
    }
   ],
   "source": [
    "# Win Percentage by day of week. What day of week do you play your best?\n",
    "\n",
    "sns.set(style='darkgrid')\n",
    "plt.figure(figsize=(16,6))\n",
    "ax2 = sns.barplot(data=win_dow_perc, x=win_dow_perc.index, y='COUNT', palette='hls')\n",
    "ax2.set(xlabel='Day of Week', ylabel='Win %')\n",
    "ax2.set_title('Win Percentage by Day of Week', fontdict = { 'fontsize': 14, 'fontweight':'bold'})\n",
    "ax2.set_xticklabels(win_dow_perc.index, rotation=45)"
   ]
  },
  {
   "cell_type": "markdown",
   "metadata": {},
   "source": [
    "## Conclusion\n",
    "\n",
    "There is of course a lot more that can be done, but this can get you started. I will dig into the juicy analysis data and provide a notebook for that, as well. Enjoy!"
   ]
  }
 ],
 "metadata": {
  "kernelspec": {
   "display_name": "Python 3",
   "language": "python",
   "name": "python3"
  },
  "language_info": {
   "codemirror_mode": {
    "name": "ipython",
    "version": 3
   },
   "file_extension": ".py",
   "mimetype": "text/x-python",
   "name": "python",
   "nbconvert_exporter": "python",
   "pygments_lexer": "ipython3",
   "version": "3.7.0"
  }
 },
 "nbformat": 4,
 "nbformat_minor": 2
}
